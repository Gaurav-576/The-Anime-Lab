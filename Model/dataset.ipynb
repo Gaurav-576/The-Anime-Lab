{
 "cells": [
  {
   "cell_type": "code",
   "execution_count": 1,
   "id": "30e85012-f3fe-4b4c-90de-24fba1b4be7b",
   "metadata": {},
   "outputs": [],
   "source": [
    "import pandas as pd"
   ]
  },
  {
   "cell_type": "code",
   "execution_count": 2,
   "id": "da43a00c-6fb9-4a72-94b7-2fa1d4ffe8bf",
   "metadata": {},
   "outputs": [],
   "source": [
    "df=pd.read_csv('anime-dataset-2023.csv')"
   ]
  },
  {
   "cell_type": "code",
   "execution_count": 3,
   "id": "9dba708d-e145-407d-88ef-a93f32a64420",
   "metadata": {},
   "outputs": [
    {
     "data": {
      "text/plain": [
       "(24905, 24)"
      ]
     },
     "execution_count": 3,
     "metadata": {},
     "output_type": "execute_result"
    }
   ],
   "source": [
    "df.shape"
   ]
  },
  {
   "cell_type": "code",
   "execution_count": 4,
   "id": "8d696eec-2f43-433b-9e66-fd54ef0fb5fc",
   "metadata": {
    "scrolled": true
   },
   "outputs": [
    {
     "data": {
      "text/html": [
       "<div>\n",
       "<style scoped>\n",
       "    .dataframe tbody tr th:only-of-type {\n",
       "        vertical-align: middle;\n",
       "    }\n",
       "\n",
       "    .dataframe tbody tr th {\n",
       "        vertical-align: top;\n",
       "    }\n",
       "\n",
       "    .dataframe thead th {\n",
       "        text-align: right;\n",
       "    }\n",
       "</style>\n",
       "<table border=\"1\" class=\"dataframe\">\n",
       "  <thead>\n",
       "    <tr style=\"text-align: right;\">\n",
       "      <th></th>\n",
       "      <th>anime_id</th>\n",
       "      <th>Name</th>\n",
       "      <th>English name</th>\n",
       "      <th>Other name</th>\n",
       "      <th>Score</th>\n",
       "      <th>Genres</th>\n",
       "      <th>Synopsis</th>\n",
       "      <th>Type</th>\n",
       "      <th>Episodes</th>\n",
       "      <th>Aired</th>\n",
       "      <th>...</th>\n",
       "      <th>Studios</th>\n",
       "      <th>Source</th>\n",
       "      <th>Duration</th>\n",
       "      <th>Rating</th>\n",
       "      <th>Rank</th>\n",
       "      <th>Popularity</th>\n",
       "      <th>Favorites</th>\n",
       "      <th>Scored By</th>\n",
       "      <th>Members</th>\n",
       "      <th>Image URL</th>\n",
       "    </tr>\n",
       "  </thead>\n",
       "  <tbody>\n",
       "    <tr>\n",
       "      <th>0</th>\n",
       "      <td>1</td>\n",
       "      <td>Cowboy Bebop</td>\n",
       "      <td>Cowboy Bebop</td>\n",
       "      <td>カウボーイビバップ</td>\n",
       "      <td>8.75</td>\n",
       "      <td>Action, Award Winning, Sci-Fi</td>\n",
       "      <td>Crime is timeless. By the year 2071, humanity ...</td>\n",
       "      <td>TV</td>\n",
       "      <td>26.0</td>\n",
       "      <td>Apr 3, 1998 to Apr 24, 1999</td>\n",
       "      <td>...</td>\n",
       "      <td>Sunrise</td>\n",
       "      <td>Original</td>\n",
       "      <td>24 min per ep</td>\n",
       "      <td>R - 17+ (violence &amp; profanity)</td>\n",
       "      <td>41.0</td>\n",
       "      <td>43</td>\n",
       "      <td>78525</td>\n",
       "      <td>914193.0</td>\n",
       "      <td>1771505</td>\n",
       "      <td>https://cdn.myanimelist.net/images/anime/4/196...</td>\n",
       "    </tr>\n",
       "  </tbody>\n",
       "</table>\n",
       "<p>1 rows × 24 columns</p>\n",
       "</div>"
      ],
      "text/plain": [
       "   anime_id          Name  English name Other name Score  \\\n",
       "0         1  Cowboy Bebop  Cowboy Bebop  カウボーイビバップ  8.75   \n",
       "\n",
       "                          Genres  \\\n",
       "0  Action, Award Winning, Sci-Fi   \n",
       "\n",
       "                                            Synopsis Type Episodes  \\\n",
       "0  Crime is timeless. By the year 2071, humanity ...   TV     26.0   \n",
       "\n",
       "                         Aired  ...  Studios    Source       Duration  \\\n",
       "0  Apr 3, 1998 to Apr 24, 1999  ...  Sunrise  Original  24 min per ep   \n",
       "\n",
       "                           Rating  Rank Popularity Favorites Scored By  \\\n",
       "0  R - 17+ (violence & profanity)  41.0         43     78525  914193.0   \n",
       "\n",
       "   Members                                          Image URL  \n",
       "0  1771505  https://cdn.myanimelist.net/images/anime/4/196...  \n",
       "\n",
       "[1 rows x 24 columns]"
      ]
     },
     "execution_count": 4,
     "metadata": {},
     "output_type": "execute_result"
    }
   ],
   "source": [
    "df.head(1)"
   ]
  },
  {
   "cell_type": "code",
   "execution_count": 5,
   "id": "cf0355d4-9064-43b4-a7bc-5c18637206e7",
   "metadata": {},
   "outputs": [
    {
     "name": "stdout",
     "output_type": "stream",
     "text": [
      "<class 'pandas.core.frame.DataFrame'>\n",
      "RangeIndex: 24905 entries, 0 to 24904\n",
      "Data columns (total 24 columns):\n",
      " #   Column        Non-Null Count  Dtype \n",
      "---  ------        --------------  ----- \n",
      " 0   anime_id      24905 non-null  int64 \n",
      " 1   Name          24905 non-null  object\n",
      " 2   English name  24905 non-null  object\n",
      " 3   Other name    24905 non-null  object\n",
      " 4   Score         24905 non-null  object\n",
      " 5   Genres        24905 non-null  object\n",
      " 6   Synopsis      24905 non-null  object\n",
      " 7   Type          24905 non-null  object\n",
      " 8   Episodes      24905 non-null  object\n",
      " 9   Aired         24905 non-null  object\n",
      " 10  Premiered     24905 non-null  object\n",
      " 11  Status        24905 non-null  object\n",
      " 12  Producers     24905 non-null  object\n",
      " 13  Licensors     24905 non-null  object\n",
      " 14  Studios       24905 non-null  object\n",
      " 15  Source        24905 non-null  object\n",
      " 16  Duration      24905 non-null  object\n",
      " 17  Rating        24905 non-null  object\n",
      " 18  Rank          24905 non-null  object\n",
      " 19  Popularity    24905 non-null  int64 \n",
      " 20  Favorites     24905 non-null  int64 \n",
      " 21  Scored By     24905 non-null  object\n",
      " 22  Members       24905 non-null  int64 \n",
      " 23  Image URL     24905 non-null  object\n",
      "dtypes: int64(4), object(20)\n",
      "memory usage: 4.6+ MB\n"
     ]
    }
   ],
   "source": [
    "df.info()"
   ]
  },
  {
   "cell_type": "code",
   "execution_count": 6,
   "id": "d0d40de5-d155-4e4e-a60c-91e84d6e620c",
   "metadata": {},
   "outputs": [
    {
     "data": {
      "text/plain": [
       "Index(['anime_id', 'Name', 'English name', 'Other name', 'Score', 'Genres',\n",
       "       'Synopsis', 'Type', 'Episodes', 'Aired', 'Premiered', 'Status',\n",
       "       'Producers', 'Licensors', 'Studios', 'Source', 'Duration', 'Rating',\n",
       "       'Rank', 'Popularity', 'Favorites', 'Scored By', 'Members', 'Image URL'],\n",
       "      dtype='object')"
      ]
     },
     "execution_count": 6,
     "metadata": {},
     "output_type": "execute_result"
    }
   ],
   "source": [
    "df.columns"
   ]
  },
  {
   "cell_type": "code",
   "execution_count": 7,
   "id": "32b51aa8-91db-4ce2-b789-8e6b7b204742",
   "metadata": {},
   "outputs": [
    {
     "data": {
      "text/plain": [
       "anime_id        0\n",
       "Name            0\n",
       "English name    0\n",
       "Other name      0\n",
       "Score           0\n",
       "Genres          0\n",
       "Synopsis        0\n",
       "Type            0\n",
       "Episodes        0\n",
       "Aired           0\n",
       "Premiered       0\n",
       "Status          0\n",
       "Producers       0\n",
       "Licensors       0\n",
       "Studios         0\n",
       "Source          0\n",
       "Duration        0\n",
       "Rating          0\n",
       "Rank            0\n",
       "Popularity      0\n",
       "Favorites       0\n",
       "Scored By       0\n",
       "Members         0\n",
       "Image URL       0\n",
       "dtype: int64"
      ]
     },
     "execution_count": 7,
     "metadata": {},
     "output_type": "execute_result"
    }
   ],
   "source": [
    "df.isnull().sum()"
   ]
  },
  {
   "cell_type": "code",
   "execution_count": 8,
   "id": "d3e2f9aa-7c78-44d3-ba7a-de585d4bbcd5",
   "metadata": {},
   "outputs": [
    {
     "data": {
      "text/plain": [
       "Score\n",
       "UNKNOWN    9213\n",
       "6.31         80\n",
       "6.54         80\n",
       "6.25         79\n",
       "6.51         79\n",
       "           ... \n",
       "3.21          1\n",
       "3.29          1\n",
       "1.85          1\n",
       "3.69          1\n",
       "4.07          1\n",
       "Name: count, Length: 567, dtype: int64"
      ]
     },
     "execution_count": 8,
     "metadata": {},
     "output_type": "execute_result"
    }
   ],
   "source": [
    "df['Score'].value_counts()"
   ]
  },
  {
   "cell_type": "code",
   "execution_count": 9,
   "id": "ce699642-ec7b-466f-9a51-667a122a866f",
   "metadata": {},
   "outputs": [
    {
     "data": {
      "text/plain": [
       "6.38"
      ]
     },
     "execution_count": 9,
     "metadata": {},
     "output_type": "execute_result"
    }
   ],
   "source": [
    "scores=df['Score'][df['Score'] != 'UNKNOWN']\n",
    "scores=scores.astype('float')\n",
    "score_mean=round(scores.mean(),2)\n",
    "score_mean"
   ]
  },
  {
   "cell_type": "code",
   "execution_count": 10,
   "id": "8e942eeb-7d01-41c6-b034-15c00a82a982",
   "metadata": {},
   "outputs": [
    {
     "data": {
      "text/plain": [
       "Score\n",
       "6.38    9282\n",
       "6.31      80\n",
       "6.54      80\n",
       "6.51      79\n",
       "6.25      79\n",
       "        ... \n",
       "3.21       1\n",
       "3.29       1\n",
       "1.85       1\n",
       "3.69       1\n",
       "4.07       1\n",
       "Name: count, Length: 566, dtype: int64"
      ]
     },
     "execution_count": 10,
     "metadata": {},
     "output_type": "execute_result"
    }
   ],
   "source": [
    "df['Score']=df['Score'].replace('UNKNOWN', score_mean)\n",
    "df['Score']=df['Score'].astype('float64')\n",
    "df['Score'].value_counts()"
   ]
  },
  {
   "cell_type": "code",
   "execution_count": 11,
   "id": "8868282e-dbc6-441e-bfd0-0e8fc2fda1a4",
   "metadata": {
    "scrolled": true
   },
   "outputs": [
    {
     "data": {
      "text/plain": [
       "Synopsis\n",
       "No description available for this anime.                                                                                                                                                                                                                                                                                                                                                                                                                                                       4535\n",
       "Furukawa Taku film.                                                                                                                                                                                                                                                                                                                                                                                                                                                                              12\n",
       "Film by Takashi Ito.                                                                                                                                                                                                                                                                                                                                                                                                                                                                             12\n",
       "A short animation by Taku Furukawa.                                                                                                                                                                                                                                                                                                                                                                                                                                                              10\n",
       "A short film by Okamoto Tadanari.                                                                                                                                                                                                                                                                                                                                                                                                                                                                 7\n",
       "                                                                                                                                                                                                                                                                                                                                                                                                                                                                                               ... \n",
       "The story is about Kudo Futaba, a young boy who is pulled into a strange world when he rescues a girl named Kiara, a powerful girl whom many people wish to capture or kill. Futaba pledges to protect Kiara from her pursuers and help her find her missing master.\\n\\nThis short animation clip was released as part of the special Comic Blade Digital DVD sold at Animate.\\n\\n(Source: AniDB)                                                                                                 1\n",
       "3 specials released with the BD/DVDs.                                                                                                                                                                                                                                                                                                                                                                                                                                                             1\n",
       "A compilation OVA of 5 stories portraying the life of Ozaki Yutaka, a famous Japanese musician in the 80s and early 90s who died young.                                                                                                                                                                                                                                                                                                                                                           1\n",
       "The competitive shinobi world has proven to be challenging for Rock Lee, who lacks the typically required abilities. To compensate for this handicap, the young ninja tenaciously endures severe training to hone his hand-to-hand combat skills. Whenever necessary, he also resorts to creative fighting techniques. With the constant support of his teammates Neji Hyuuga and Tenten, Lee readily embraces daring adventures as opportunities to advance on his path toward excellence.       1\n",
       "A music video for the song Shijuuku Nichi by Shannon.                                                                                                                                                                                                                                                                                                                                                                                                                                             1\n",
       "Name: count, Length: 20113, dtype: int64"
      ]
     },
     "execution_count": 11,
     "metadata": {},
     "output_type": "execute_result"
    }
   ],
   "source": [
    "df['Synopsis'].value_counts()"
   ]
  },
  {
   "cell_type": "code",
   "execution_count": 12,
   "id": "920cf424-8ddd-46cd-95e4-991403bdd20c",
   "metadata": {},
   "outputs": [
    {
     "data": {
      "text/plain": [
       "Type\n",
       "TV         7597\n",
       "Movie      4381\n",
       "OVA        4076\n",
       "ONA        3533\n",
       "Music      2686\n",
       "Special    2558\n",
       "UNKNOWN      74\n",
       "Name: count, dtype: int64"
      ]
     },
     "execution_count": 12,
     "metadata": {},
     "output_type": "execute_result"
    }
   ],
   "source": [
    "df['Type'].value_counts()"
   ]
  },
  {
   "cell_type": "code",
   "execution_count": 13,
   "id": "664a6cd5-74a6-4c17-bbcb-7a9d8620aa07",
   "metadata": {},
   "outputs": [
    {
     "data": {
      "text/html": [
       "<div>\n",
       "<style scoped>\n",
       "    .dataframe tbody tr th:only-of-type {\n",
       "        vertical-align: middle;\n",
       "    }\n",
       "\n",
       "    .dataframe tbody tr th {\n",
       "        vertical-align: top;\n",
       "    }\n",
       "\n",
       "    .dataframe thead th {\n",
       "        text-align: right;\n",
       "    }\n",
       "</style>\n",
       "<table border=\"1\" class=\"dataframe\">\n",
       "  <thead>\n",
       "    <tr style=\"text-align: right;\">\n",
       "      <th></th>\n",
       "      <th>anime_id</th>\n",
       "      <th>Name</th>\n",
       "      <th>English name</th>\n",
       "      <th>Other name</th>\n",
       "      <th>Score</th>\n",
       "      <th>Genres</th>\n",
       "      <th>Synopsis</th>\n",
       "      <th>Type</th>\n",
       "      <th>Episodes</th>\n",
       "      <th>Aired</th>\n",
       "      <th>...</th>\n",
       "      <th>Duration</th>\n",
       "      <th>Rating</th>\n",
       "      <th>Rank</th>\n",
       "      <th>Popularity</th>\n",
       "      <th>Favorites</th>\n",
       "      <th>Scored By</th>\n",
       "      <th>Members</th>\n",
       "      <th>Image URL</th>\n",
       "      <th>Start_Year</th>\n",
       "      <th>End_Year</th>\n",
       "    </tr>\n",
       "  </thead>\n",
       "  <tbody>\n",
       "    <tr>\n",
       "      <th>0</th>\n",
       "      <td>1</td>\n",
       "      <td>Cowboy Bebop</td>\n",
       "      <td>Cowboy Bebop</td>\n",
       "      <td>カウボーイビバップ</td>\n",
       "      <td>8.75</td>\n",
       "      <td>Action, Award Winning, Sci-Fi</td>\n",
       "      <td>Crime is timeless. By the year 2071, humanity ...</td>\n",
       "      <td>TV</td>\n",
       "      <td>26.0</td>\n",
       "      <td>Apr 3, 1998 to Apr 24, 1999</td>\n",
       "      <td>...</td>\n",
       "      <td>24 min per ep</td>\n",
       "      <td>R - 17+ (violence &amp; profanity)</td>\n",
       "      <td>41.0</td>\n",
       "      <td>43</td>\n",
       "      <td>78525</td>\n",
       "      <td>914193.0</td>\n",
       "      <td>1771505</td>\n",
       "      <td>https://cdn.myanimelist.net/images/anime/4/196...</td>\n",
       "      <td>1998</td>\n",
       "      <td>1999</td>\n",
       "    </tr>\n",
       "  </tbody>\n",
       "</table>\n",
       "<p>1 rows × 26 columns</p>\n",
       "</div>"
      ],
      "text/plain": [
       "   anime_id          Name  English name Other name  Score  \\\n",
       "0         1  Cowboy Bebop  Cowboy Bebop  カウボーイビバップ   8.75   \n",
       "\n",
       "                          Genres  \\\n",
       "0  Action, Award Winning, Sci-Fi   \n",
       "\n",
       "                                            Synopsis Type Episodes  \\\n",
       "0  Crime is timeless. By the year 2071, humanity ...   TV     26.0   \n",
       "\n",
       "                         Aired  ...       Duration  \\\n",
       "0  Apr 3, 1998 to Apr 24, 1999  ...  24 min per ep   \n",
       "\n",
       "                           Rating  Rank Popularity Favorites Scored By  \\\n",
       "0  R - 17+ (violence & profanity)  41.0         43     78525  914193.0   \n",
       "\n",
       "   Members                                          Image URL Start_Year  \\\n",
       "0  1771505  https://cdn.myanimelist.net/images/anime/4/196...       1998   \n",
       "\n",
       "   End_Year  \n",
       "0      1999  \n",
       "\n",
       "[1 rows x 26 columns]"
      ]
     },
     "execution_count": 13,
     "metadata": {},
     "output_type": "execute_result"
    }
   ],
   "source": [
    "import re\n",
    "from datetime import datetime\n",
    "def extract_years(aired):\n",
    "    start_date = re.search(r'(\\d{4})', aired.split('to')[0])\n",
    "    end_date = re.search(r'(\\d{4})', aired.split('to')[1] if 'to' in aired else aired)\n",
    "    start_year = start_date.group(1) if start_date else None\n",
    "    end_year = end_date.group(1) if end_date else str(datetime.now().year)\n",
    "    if end_year == str(datetime.now().year):\n",
    "        end_year = 'Present'\n",
    "    return start_year, end_year\n",
    "    \n",
    "df[['Start_Year', 'End_Year']] = df['Aired'].apply(extract_years).apply(pd.Series)\n",
    "df.head(1)"
   ]
  },
  {
   "cell_type": "code",
   "execution_count": 14,
   "id": "885f4883-0df8-43db-8fec-502cb98e1494",
   "metadata": {},
   "outputs": [
    {
     "data": {
      "text/plain": [
       "Premiered\n",
       "UNKNOWN        19399\n",
       "spring 2017       88\n",
       "fall 2016         83\n",
       "spring 2018       81\n",
       "spring 2016       78\n",
       "               ...  \n",
       "summer 1993        1\n",
       "summer 1974        1\n",
       "summer 1991        1\n",
       "spring 1961        1\n",
       "summer 2025        1\n",
       "Name: count, Length: 244, dtype: int64"
      ]
     },
     "execution_count": 14,
     "metadata": {},
     "output_type": "execute_result"
    }
   ],
   "source": [
    "df['Premiered'].value_counts()"
   ]
  },
  {
   "cell_type": "code",
   "execution_count": 15,
   "id": "b2a3fd9a-24b1-416c-9cc2-f7aad3875f4e",
   "metadata": {},
   "outputs": [
    {
     "data": {
      "text/plain": [
       "Producers\n",
       "UNKNOWN                                                                                                         13350\n",
       "NHK                                                                                                               717\n",
       "Pink Pineapple                                                                                                    259\n",
       "Sanrio                                                                                                            174\n",
       "Bandai Visual                                                                                                     124\n",
       "                                                                                                                ...  \n",
       "Genco, Pioneer LDC, Nippon Cultural Broadcasting                                                                    1\n",
       "Production I.G, Dentsu, Mainichi Broadcasting System, Pony Canyon, Kodansha, Mad Box, Pony Canyon Enterprise        1\n",
       "Mainichi Broadcasting System, Pony Canyon, Showgate, Index                                                          1\n",
       "TV Tokyo, Sotsu, Lantis, JM Animation                                                                               1\n",
       "THINKR                                                                                                              1\n",
       "Name: count, Length: 4423, dtype: int64"
      ]
     },
     "execution_count": 15,
     "metadata": {},
     "output_type": "execute_result"
    }
   ],
   "source": [
    "df['Producers'].value_counts()"
   ]
  },
  {
   "cell_type": "code",
   "execution_count": 16,
   "id": "2aaf14b0-a9f6-4488-ac6f-02a74546dd5c",
   "metadata": {},
   "outputs": [
    {
     "data": {
      "text/plain": [
       "Licensors\n",
       "UNKNOWN                                                                  20170\n",
       "Funimation                                                                 957\n",
       "Sentai Filmworks                                                           818\n",
       "Discotek Media                                                             275\n",
       "Aniplex of America                                                         222\n",
       "                                                                         ...  \n",
       "Bandai Entertainment, Maiden Japan                                           1\n",
       "ADV Films, SoftCel Pictures                                                  1\n",
       "VIZ Media, Media Blasters, Sentai Filmworks, Geneon Entertainment USA        1\n",
       "Bandai Entertainment, Discotek Media, NYAV Post, Bandai Visual USA           1\n",
       "Bandai Namco Online                                                          1\n",
       "Name: count, Length: 265, dtype: int64"
      ]
     },
     "execution_count": 16,
     "metadata": {},
     "output_type": "execute_result"
    }
   ],
   "source": [
    "df['Licensors'].value_counts()"
   ]
  },
  {
   "cell_type": "code",
   "execution_count": 17,
   "id": "02f46182-f5f7-4a2c-a256-5f08eb94a3ad",
   "metadata": {},
   "outputs": [
    {
     "data": {
      "text/plain": [
       "Studios\n",
       "UNKNOWN                            10526\n",
       "Toei Animation                       834\n",
       "Sunrise                              532\n",
       "J.C.Staff                            385\n",
       "Shanghai Animation Film Studio       335\n",
       "                                   ...  \n",
       "Ordet, Encourage Films                 1\n",
       "Hoods Entertainment, Felix Film        1\n",
       "Kaeruotoko Shokai                      1\n",
       "MooGoo, Studio Ranmaru                 1\n",
       "Youku                                  1\n",
       "Name: count, Length: 1547, dtype: int64"
      ]
     },
     "execution_count": 17,
     "metadata": {},
     "output_type": "execute_result"
    }
   ],
   "source": [
    "df['Studios'].value_counts()"
   ]
  },
  {
   "cell_type": "code",
   "execution_count": 18,
   "id": "b6600cf1-406a-4590-89bb-ae8b3fbcaee8",
   "metadata": {},
   "outputs": [
    {
     "data": {
      "text/plain": [
       "Source\n",
       "Original        9622\n",
       "Manga           4687\n",
       "Unknown         3689\n",
       "Game            1232\n",
       "Visual novel    1107\n",
       "Other           1008\n",
       "Light novel      968\n",
       "Novel            709\n",
       "Web manga        447\n",
       "Music            395\n",
       "4-koma manga     314\n",
       "Picture book     210\n",
       "Book             191\n",
       "Mixed media      162\n",
       "Web novel         82\n",
       "Card game         68\n",
       "Radio             14\n",
       "Name: count, dtype: int64"
      ]
     },
     "execution_count": 18,
     "metadata": {},
     "output_type": "execute_result"
    }
   ],
   "source": [
    "df['Source'].value_counts()"
   ]
  },
  {
   "cell_type": "code",
   "execution_count": 19,
   "id": "2a2ed8b8-5d6b-4d2c-a73e-8f838990b44e",
   "metadata": {},
   "outputs": [
    {
     "data": {
      "text/plain": [
       "Rating\n",
       "PG-13 - Teens 13 or older         8502\n",
       "G - All Ages                      7660\n",
       "PG - Children                     4050\n",
       "Rx - Hentai                       1475\n",
       "R - 17+ (violence & profanity)    1414\n",
       "R+ - Mild Nudity                  1135\n",
       "UNKNOWN                            669\n",
       "Name: count, dtype: int64"
      ]
     },
     "execution_count": 19,
     "metadata": {},
     "output_type": "execute_result"
    }
   ],
   "source": [
    "df['Rating'].value_counts()"
   ]
  },
  {
   "cell_type": "code",
   "execution_count": 20,
   "id": "053867c9-491f-4e7e-bdda-d7507648b44a",
   "metadata": {},
   "outputs": [
    {
     "data": {
      "text/plain": [
       "Rank\n",
       "UNKNOWN    4612\n",
       "0.0         187\n",
       "6542.0        4\n",
       "16675.0       4\n",
       "6577.0        4\n",
       "           ... \n",
       "18424.0       1\n",
       "18423.0       1\n",
       "11642.0       1\n",
       "8977.0        1\n",
       "14536.0       1\n",
       "Name: count, Length: 15198, dtype: int64"
      ]
     },
     "execution_count": 20,
     "metadata": {},
     "output_type": "execute_result"
    }
   ],
   "source": [
    "df['Rank'].value_counts()"
   ]
  },
  {
   "cell_type": "code",
   "execution_count": 21,
   "id": "0f53eaab-6723-46e5-a842-c47f1bc0b896",
   "metadata": {},
   "outputs": [],
   "source": [
    "import numpy as np\n",
    "df['Rank']=df['Rank'].replace('UNKNOWN', np.nan)\n",
    "df['Rank']=df['Rank'].astype('float64')"
   ]
  },
  {
   "cell_type": "code",
   "execution_count": 22,
   "id": "b654f8a1-101c-4926-8882-12fecf797a0e",
   "metadata": {},
   "outputs": [
    {
     "data": {
      "text/plain": [
       "Rank\n",
       "0.0        187\n",
       "12611.0      4\n",
       "18804.0      4\n",
       "18715.0      4\n",
       "6577.0       4\n",
       "          ... \n",
       "18424.0      1\n",
       "18423.0      1\n",
       "11642.0      1\n",
       "8977.0       1\n",
       "14536.0      1\n",
       "Name: count, Length: 15197, dtype: int64"
      ]
     },
     "execution_count": 22,
     "metadata": {},
     "output_type": "execute_result"
    }
   ],
   "source": [
    "df['Rank'].value_counts()"
   ]
  },
  {
   "cell_type": "code",
   "execution_count": 23,
   "id": "1da75b0c-41fa-47fd-927e-ec68d09dcad3",
   "metadata": {},
   "outputs": [
    {
     "data": {
      "text/html": [
       "<div>\n",
       "<style scoped>\n",
       "    .dataframe tbody tr th:only-of-type {\n",
       "        vertical-align: middle;\n",
       "    }\n",
       "\n",
       "    .dataframe tbody tr th {\n",
       "        vertical-align: top;\n",
       "    }\n",
       "\n",
       "    .dataframe thead th {\n",
       "        text-align: right;\n",
       "    }\n",
       "</style>\n",
       "<table border=\"1\" class=\"dataframe\">\n",
       "  <thead>\n",
       "    <tr style=\"text-align: right;\">\n",
       "      <th></th>\n",
       "      <th>anime_id</th>\n",
       "      <th>Name</th>\n",
       "      <th>English name</th>\n",
       "      <th>Other name</th>\n",
       "      <th>Score</th>\n",
       "      <th>Genres</th>\n",
       "      <th>Synopsis</th>\n",
       "      <th>Type</th>\n",
       "      <th>Episodes</th>\n",
       "      <th>Aired</th>\n",
       "      <th>...</th>\n",
       "      <th>Duration</th>\n",
       "      <th>Rating</th>\n",
       "      <th>Rank</th>\n",
       "      <th>Popularity</th>\n",
       "      <th>Favorites</th>\n",
       "      <th>Scored By</th>\n",
       "      <th>Members</th>\n",
       "      <th>Image URL</th>\n",
       "      <th>Start_Year</th>\n",
       "      <th>End_Year</th>\n",
       "    </tr>\n",
       "  </thead>\n",
       "  <tbody>\n",
       "    <tr>\n",
       "      <th>933</th>\n",
       "      <td>1028</td>\n",
       "      <td>Arete Hime</td>\n",
       "      <td>Princess Arete</td>\n",
       "      <td>アリーテ姫</td>\n",
       "      <td>6.88</td>\n",
       "      <td>Fantasy</td>\n",
       "      <td>Confined in the castle tower by her father, pr...</td>\n",
       "      <td>Movie</td>\n",
       "      <td>1.0</td>\n",
       "      <td>Jul 21, 2001</td>\n",
       "      <td>...</td>\n",
       "      <td>1 hr 45 min</td>\n",
       "      <td>G - All Ages</td>\n",
       "      <td>4488.0</td>\n",
       "      <td>5449</td>\n",
       "      <td>51</td>\n",
       "      <td>4596.0</td>\n",
       "      <td>12920</td>\n",
       "      <td>https://cdn.myanimelist.net/images/anime/10/43...</td>\n",
       "      <td>2001</td>\n",
       "      <td>2001</td>\n",
       "    </tr>\n",
       "  </tbody>\n",
       "</table>\n",
       "<p>1 rows × 26 columns</p>\n",
       "</div>"
      ],
      "text/plain": [
       "     anime_id        Name    English name Other name  Score   Genres  \\\n",
       "933      1028  Arete Hime  Princess Arete      アリーテ姫   6.88  Fantasy   \n",
       "\n",
       "                                              Synopsis   Type Episodes  \\\n",
       "933  Confined in the castle tower by her father, pr...  Movie      1.0   \n",
       "\n",
       "            Aired  ...     Duration        Rating    Rank Popularity  \\\n",
       "933  Jul 21, 2001  ...  1 hr 45 min  G - All Ages  4488.0       5449   \n",
       "\n",
       "    Favorites Scored By Members  \\\n",
       "933        51    4596.0   12920   \n",
       "\n",
       "                                             Image URL  Start_Year  End_Year  \n",
       "933  https://cdn.myanimelist.net/images/anime/10/43...        2001      2001  \n",
       "\n",
       "[1 rows x 26 columns]"
      ]
     },
     "execution_count": 23,
     "metadata": {},
     "output_type": "execute_result"
    }
   ],
   "source": [
    "df.sample()"
   ]
  },
  {
   "cell_type": "code",
   "execution_count": 24,
   "id": "c4e1cffc-484b-457d-9517-719e632eaacd",
   "metadata": {},
   "outputs": [
    {
     "data": {
      "text/plain": [
       "Index(['anime_id', 'Name', 'English name', 'Other name', 'Score', 'Genres',\n",
       "       'Synopsis', 'Type', 'Episodes', 'Aired', 'Premiered', 'Status',\n",
       "       'Producers', 'Licensors', 'Studios', 'Source', 'Duration', 'Rating',\n",
       "       'Rank', 'Popularity', 'Favorites', 'Scored By', 'Members', 'Image URL',\n",
       "       'Start_Year', 'End_Year'],\n",
       "      dtype='object')"
      ]
     },
     "execution_count": 24,
     "metadata": {},
     "output_type": "execute_result"
    }
   ],
   "source": [
    "df.columns"
   ]
  },
  {
   "cell_type": "code",
   "execution_count": 25,
   "id": "96412c3a-939f-4f5b-95b3-dc7f5a24eade",
   "metadata": {},
   "outputs": [
    {
     "data": {
      "text/html": [
       "<div>\n",
       "<style scoped>\n",
       "    .dataframe tbody tr th:only-of-type {\n",
       "        vertical-align: middle;\n",
       "    }\n",
       "\n",
       "    .dataframe tbody tr th {\n",
       "        vertical-align: top;\n",
       "    }\n",
       "\n",
       "    .dataframe thead th {\n",
       "        text-align: right;\n",
       "    }\n",
       "</style>\n",
       "<table border=\"1\" class=\"dataframe\">\n",
       "  <thead>\n",
       "    <tr style=\"text-align: right;\">\n",
       "      <th></th>\n",
       "      <th>anime_id</th>\n",
       "      <th>Name</th>\n",
       "      <th>English name</th>\n",
       "      <th>Score</th>\n",
       "      <th>Genres</th>\n",
       "      <th>Synopsis</th>\n",
       "      <th>Type</th>\n",
       "      <th>Status</th>\n",
       "      <th>Producers</th>\n",
       "      <th>Licensors</th>\n",
       "      <th>...</th>\n",
       "      <th>Source</th>\n",
       "      <th>Rating</th>\n",
       "      <th>Rank</th>\n",
       "      <th>Popularity</th>\n",
       "      <th>Favorites</th>\n",
       "      <th>Scored By</th>\n",
       "      <th>Members</th>\n",
       "      <th>Image URL</th>\n",
       "      <th>Start_Year</th>\n",
       "      <th>End_Year</th>\n",
       "    </tr>\n",
       "  </thead>\n",
       "  <tbody>\n",
       "    <tr>\n",
       "      <th>20946</th>\n",
       "      <td>48543</td>\n",
       "      <td>Shouxi Yu Ling Shi 2</td>\n",
       "      <td>UNKNOWN</td>\n",
       "      <td>6.06</td>\n",
       "      <td>Action, Fantasy</td>\n",
       "      <td>Second season of Shouxi Yu Ling Shi.</td>\n",
       "      <td>ONA</td>\n",
       "      <td>Finished Airing</td>\n",
       "      <td>UNKNOWN</td>\n",
       "      <td>UNKNOWN</td>\n",
       "      <td>...</td>\n",
       "      <td>Original</td>\n",
       "      <td>PG-13 - Teens 13 or older</td>\n",
       "      <td>8581.0</td>\n",
       "      <td>13840</td>\n",
       "      <td>2</td>\n",
       "      <td>178.0</td>\n",
       "      <td>691</td>\n",
       "      <td>https://cdn.myanimelist.net/images/anime/1507/...</td>\n",
       "      <td>2021</td>\n",
       "      <td>2021</td>\n",
       "    </tr>\n",
       "  </tbody>\n",
       "</table>\n",
       "<p>1 rows × 21 columns</p>\n",
       "</div>"
      ],
      "text/plain": [
       "       anime_id                  Name English name  Score           Genres  \\\n",
       "20946     48543  Shouxi Yu Ling Shi 2      UNKNOWN   6.06  Action, Fantasy   \n",
       "\n",
       "                                   Synopsis Type           Status Producers  \\\n",
       "20946  Second season of Shouxi Yu Ling Shi.  ONA  Finished Airing   UNKNOWN   \n",
       "\n",
       "      Licensors  ...    Source                     Rating    Rank  Popularity  \\\n",
       "20946   UNKNOWN  ...  Original  PG-13 - Teens 13 or older  8581.0       13840   \n",
       "\n",
       "       Favorites  Scored By Members  \\\n",
       "20946          2      178.0     691   \n",
       "\n",
       "                                               Image URL Start_Year End_Year  \n",
       "20946  https://cdn.myanimelist.net/images/anime/1507/...       2021     2021  \n",
       "\n",
       "[1 rows x 21 columns]"
      ]
     },
     "execution_count": 25,
     "metadata": {},
     "output_type": "execute_result"
    }
   ],
   "source": [
    "filtered_df=df.drop(columns=['Other name','Episodes','Aired','Premiered','Duration'],axis=1)\n",
    "filtered_df.sample()"
   ]
  },
  {
   "cell_type": "code",
   "execution_count": 26,
   "id": "097f34fb-dc01-49e3-b63e-a88e653f44bb",
   "metadata": {},
   "outputs": [],
   "source": [
    "import pickle\n",
    "\n",
    "with open('anime-dataset.pkl', 'wb') as file:\n",
    "    pickle.dump(filtered_df, file)"
   ]
  },
  {
   "cell_type": "code",
   "execution_count": 27,
   "id": "9065daf7-903b-46dd-97f4-01aa2120cc25",
   "metadata": {},
   "outputs": [
    {
     "name": "stdout",
     "output_type": "stream",
     "text": [
      "Number of unique genres: 22\n",
      "List of unique genres:\n",
      "0            Action\n",
      "1     Award Winning\n",
      "2            Sci-Fi\n",
      "3         Adventure\n",
      "4             Drama\n",
      "5           Mystery\n",
      "6      Supernatural\n",
      "7           Fantasy\n",
      "8            Sports\n",
      "9            Comedy\n",
      "10          Romance\n",
      "11    Slice of Life\n",
      "12         Suspense\n",
      "13            Ecchi\n",
      "14          Gourmet\n",
      "15      Avant Garde\n",
      "16           Horror\n",
      "17       Girls Love\n",
      "18        Boys Love\n",
      "19           Hentai\n",
      "20          UNKNOWN\n",
      "21          Erotica\n",
      "dtype: object\n"
     ]
    }
   ],
   "source": [
    "all_genres = df['Genres'].str.split(', ').explode().unique()\n",
    "num_unique_genres = len(all_genres)\n",
    "unique_genres_series = pd.Series(all_genres)\n",
    "print(\"Number of unique genres:\", num_unique_genres)\n",
    "print(\"List of unique genres:\")\n",
    "print(unique_genres_series)"
   ]
  },
  {
   "cell_type": "code",
   "execution_count": 39,
   "id": "1db24972-fa3b-4c42-aae9-b02f66173a0a",
   "metadata": {},
   "outputs": [
    {
     "data": {
      "text/plain": [
       "(17438, 26)"
      ]
     },
     "execution_count": 39,
     "metadata": {},
     "output_type": "execute_result"
    }
   ],
   "source": [
    "exclude_genres = [\"Hentai\", \"Girls Love\", \"Ecchi\", \"Boys Love\", \"UNKNOWN\", \"Erotica\"]\n",
    "filtered_df = df[~df['Genres'].str.contains('|'.join(exclude_genres), case=False)]\n",
    "filtered_df.shape"
   ]
  },
  {
   "cell_type": "code",
   "execution_count": 40,
   "id": "a62e67fe-2fc5-443a-b61f-0a1ea0da03e7",
   "metadata": {},
   "outputs": [
    {
     "name": "stdout",
     "output_type": "stream",
     "text": [
      "Number of unique genres: 16\n",
      "List of unique genres:\n",
      "0            Action\n",
      "1     Award Winning\n",
      "2            Sci-Fi\n",
      "3         Adventure\n",
      "4             Drama\n",
      "5           Mystery\n",
      "6      Supernatural\n",
      "7           Fantasy\n",
      "8            Sports\n",
      "9            Comedy\n",
      "10          Romance\n",
      "11    Slice of Life\n",
      "12         Suspense\n",
      "13          Gourmet\n",
      "14      Avant Garde\n",
      "15           Horror\n",
      "dtype: object\n"
     ]
    }
   ],
   "source": [
    "all_genres = filtered_df['Genres'].str.split(', ').explode().unique()\n",
    "num_unique_genres = len(all_genres)\n",
    "unique_genres_series = pd.Series(all_genres)\n",
    "print(\"Number of unique genres:\", num_unique_genres)\n",
    "print(\"List of unique genres:\")\n",
    "print(unique_genres_series)"
   ]
  },
  {
   "cell_type": "code",
   "execution_count": 41,
   "id": "99196a8b-eda0-4d18-b691-062adfba04b5",
   "metadata": {},
   "outputs": [],
   "source": [
    "df.to_csv(\"filtered_dataset.csv\")"
   ]
  },
  {
   "cell_type": "code",
   "execution_count": null,
   "id": "47a5692c-6f81-4feb-818d-e10fb8016b71",
   "metadata": {},
   "outputs": [],
   "source": []
  }
 ],
 "metadata": {
  "kernelspec": {
   "display_name": "Python 3 (ipykernel)",
   "language": "python",
   "name": "python3"
  },
  "language_info": {
   "codemirror_mode": {
    "name": "ipython",
    "version": 3
   },
   "file_extension": ".py",
   "mimetype": "text/x-python",
   "name": "python",
   "nbconvert_exporter": "python",
   "pygments_lexer": "ipython3",
   "version": "3.12.3"
  }
 },
 "nbformat": 4,
 "nbformat_minor": 5
}
